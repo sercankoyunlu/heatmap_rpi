{
 "cells": [
  {
   "cell_type": "code",
   "execution_count": 1,
   "id": "1b96a7c4",
   "metadata": {},
   "outputs": [
    {
     "name": "stderr",
     "output_type": "stream",
     "text": [
      "C:\\ProgramData\\Anaconda3\\lib\\site-packages\\thefuzz\\fuzz.py:11: UserWarning: Using slow pure-python SequenceMatcher. Install python-Levenshtein to remove this warning\n",
      "  warnings.warn('Using slow pure-python SequenceMatcher. Install python-Levenshtein to remove this warning')\n"
     ]
    }
   ],
   "source": [
    "import pandas as pd\n",
    "from evds import evdsAPI\n",
    "import warnings\n",
    "import pandas as pd\n",
    "from thefuzz import fuzz\n",
    "from thefuzz import process\n",
    "import geopandas as gp\n",
    "from matplotlib import pyplot as plt"
   ]
  },
  {
   "cell_type": "code",
   "execution_count": 2,
   "id": "c7db53b5",
   "metadata": {},
   "outputs": [
    {
     "ename": "EVDSConnectionError",
     "evalue": "Connection error, please check your API Key or request. Url:https://evds2.tcmb.gov.tr/service/evds/categories/key=***********&type=json",
     "output_type": "error",
     "traceback": [
      "\u001b[1;31m---------------------------------------------------------------------------\u001b[0m",
      "\u001b[1;31mEVDSConnectionError\u001b[0m                       Traceback (most recent call last)",
      "\u001b[1;32m~\\AppData\\Local\\Temp/ipykernel_14000/1390164143.py\u001b[0m in \u001b[0;36m<module>\u001b[1;34m\u001b[0m\n\u001b[0;32m      2\u001b[0m \u001b[0mwarnings\u001b[0m\u001b[1;33m.\u001b[0m\u001b[0mfilterwarnings\u001b[0m\u001b[1;33m(\u001b[0m\u001b[1;34m\"ignore\"\u001b[0m\u001b[1;33m,\u001b[0m \u001b[0mcategory\u001b[0m\u001b[1;33m=\u001b[0m\u001b[0mFutureWarning\u001b[0m\u001b[1;33m)\u001b[0m\u001b[1;33m\u001b[0m\u001b[1;33m\u001b[0m\u001b[0m\n\u001b[0;32m      3\u001b[0m \u001b[1;33m\u001b[0m\u001b[0m\n\u001b[1;32m----> 4\u001b[1;33m \u001b[0mevds\u001b[0m\u001b[1;33m=\u001b[0m\u001b[0mevdsAPI\u001b[0m\u001b[1;33m(\u001b[0m\u001b[1;34m'***********'\u001b[0m\u001b[1;33m)\u001b[0m\u001b[1;33m\u001b[0m\u001b[1;33m\u001b[0m\u001b[0m\n\u001b[0m\u001b[0;32m      5\u001b[0m \u001b[0ma\u001b[0m\u001b[1;33m=\u001b[0m\u001b[0mevds\u001b[0m\u001b[1;33m.\u001b[0m\u001b[0mget_series\u001b[0m\u001b[1;33m(\u001b[0m\u001b[1;34m'bie_hkfe'\u001b[0m\u001b[1;33m)\u001b[0m\u001b[1;33m\u001b[0m\u001b[1;33m\u001b[0m\u001b[0m\n\u001b[0;32m      6\u001b[0m \u001b[1;33m\u001b[0m\u001b[0m\n",
      "\u001b[1;32mC:\\ProgramData\\Anaconda3\\lib\\site-packages\\evds\\__init__.py\u001b[0m in \u001b[0;36m__init__\u001b[1;34m(self, key, lang, DEBUG, proxies, httpsVerify)\u001b[0m\n\u001b[0;32m     30\u001b[0m         \u001b[0mself\u001b[0m\u001b[1;33m.\u001b[0m\u001b[0mnot_available_categories\u001b[0m \u001b[1;33m=\u001b[0m \u001b[1;33m[\u001b[0m\u001b[1;36m17\u001b[0m\u001b[1;33m]\u001b[0m\u001b[1;33m\u001b[0m\u001b[1;33m\u001b[0m\u001b[0m\n\u001b[0;32m     31\u001b[0m \u001b[1;33m\u001b[0m\u001b[0m\n\u001b[1;32m---> 32\u001b[1;33m         \u001b[0mself\u001b[0m\u001b[1;33m.\u001b[0m\u001b[0mmain_categories\u001b[0m \u001b[1;33m=\u001b[0m \u001b[0mself\u001b[0m\u001b[1;33m.\u001b[0m\u001b[0m__get_main_categories\u001b[0m\u001b[1;33m(\u001b[0m\u001b[1;33m)\u001b[0m\u001b[1;33m\u001b[0m\u001b[1;33m\u001b[0m\u001b[0m\n\u001b[0m\u001b[0;32m     33\u001b[0m \u001b[1;33m\u001b[0m\u001b[0m\n\u001b[0;32m     34\u001b[0m     \u001b[1;32mdef\u001b[0m \u001b[0m__get_main_categories\u001b[0m\u001b[1;33m(\u001b[0m\u001b[0mself\u001b[0m\u001b[1;33m)\u001b[0m\u001b[1;33m:\u001b[0m\u001b[1;33m\u001b[0m\u001b[1;33m\u001b[0m\u001b[0m\n",
      "\u001b[1;32mC:\\ProgramData\\Anaconda3\\lib\\site-packages\\evds\\__init__.py\u001b[0m in \u001b[0;36m__get_main_categories\u001b[1;34m(self)\u001b[0m\n\u001b[0;32m     36\u001b[0m         \u001b[0mFunction\u001b[0m \u001b[0mreturns\u001b[0m \u001b[0mmain\u001b[0m \u001b[0mcategories\u001b[0m \u001b[0mdataframe\u001b[0m\u001b[1;33m.\u001b[0m\u001b[1;33m\u001b[0m\u001b[1;33m\u001b[0m\u001b[0m\n\u001b[0;32m     37\u001b[0m         \"\"\"\n\u001b[1;32m---> 38\u001b[1;33m         main_categories = self.__make_request('https://evds2.tcmb.gov.tr/service/evds/categories/',\\\n\u001b[0m\u001b[0;32m     39\u001b[0m                             params={'key' : self.key, 'type' : 'json'})\n\u001b[0;32m     40\u001b[0m         \u001b[1;32mtry\u001b[0m\u001b[1;33m:\u001b[0m\u001b[1;33m\u001b[0m\u001b[1;33m\u001b[0m\u001b[0m\n",
      "\u001b[1;32mC:\\ProgramData\\Anaconda3\\lib\\site-packages\\evds\\__init__.py\u001b[0m in \u001b[0;36m__make_request\u001b[1;34m(self, url, params)\u001b[0m\n\u001b[0;32m    191\u001b[0m             \u001b[1;32mreturn\u001b[0m \u001b[0mrequest\u001b[0m\u001b[1;33m.\u001b[0m\u001b[0mcontent\u001b[0m\u001b[1;33m\u001b[0m\u001b[1;33m\u001b[0m\u001b[0m\n\u001b[0;32m    192\u001b[0m         \u001b[1;32melse\u001b[0m\u001b[1;33m:\u001b[0m\u001b[1;33m\u001b[0m\u001b[1;33m\u001b[0m\u001b[0m\n\u001b[1;32m--> 193\u001b[1;33m             \u001b[1;32mraise\u001b[0m \u001b[0mEVDSConnectionError\u001b[0m\u001b[1;33m(\u001b[0m\u001b[1;34m\"Connection error, please check your API Key or request. Url:{}\"\u001b[0m\u001b[1;33m.\u001b[0m\u001b[0mformat\u001b[0m\u001b[1;33m(\u001b[0m\u001b[0mrequest\u001b[0m\u001b[1;33m.\u001b[0m\u001b[0murl\u001b[0m\u001b[1;33m)\u001b[0m\u001b[1;33m)\u001b[0m\u001b[1;33m\u001b[0m\u001b[1;33m\u001b[0m\u001b[0m\n\u001b[0m\u001b[0;32m    194\u001b[0m \u001b[1;33m\u001b[0m\u001b[0m\n\u001b[0;32m    195\u001b[0m     \u001b[1;32mdef\u001b[0m \u001b[0m__param_generator\u001b[0m\u001b[1;33m(\u001b[0m\u001b[0mself\u001b[0m\u001b[1;33m,\u001b[0m\u001b[0mparam\u001b[0m\u001b[1;33m)\u001b[0m\u001b[1;33m:\u001b[0m\u001b[1;33m\u001b[0m\u001b[1;33m\u001b[0m\u001b[0m\n",
      "\u001b[1;31mEVDSConnectionError\u001b[0m: Connection error, please check your API Key or request. Url:https://evds2.tcmb.gov.tr/service/evds/categories/key=***********&type=json"
     ]
    }
   ],
   "source": [
    "warnings.filterwarnings(\"ignore\", category=Warning)\n",
    "warnings.filterwarnings(\"ignore\", category=FutureWarning)\n",
    "\n",
    "evds=evdsAPI('***********')\n",
    "a=evds.get_series('bie_hkfe')\n",
    "\n",
    "a"
   ]
  },
  {
   "cell_type": "code",
   "execution_count": null,
   "id": "03ef3504",
   "metadata": {},
   "outputs": [],
   "source": [
    "# Calculate the annual percentage change for Residential Property Price Index index (KFE) data\n",
    "kfe=evds.get_data(list(a.SERIE_CODE),startdate=a[\"START_DATE\"].unique()[0],enddate=\"15-08-2040\")\n",
    "kfe.iloc[:,1:]=kfe.iloc[:,1:].pct_change(12)*100\n",
    "a[\"SERIE_CODE\"]=a[\"SERIE_CODE\"].str.replace(\".\",\"_\")\n",
    "\n",
    "# Prepare data for geospatial mapping\n",
    "kfe=(pd.melt(kfe, id_vars=[\"Tarih\"], var_name=\"SERIE_CODE\")\n",
    "    .merge(a[[\"SERIE_CODE\",\"SERIE_NAME\"]], on=\"SERIE_CODE\")\n",
    "    .assign(Tarih=lambda x: pd.to_datetime(x[\"Tarih\"],infer_datetime_format=True))\n",
    "    .query('Tarih==Tarih.max()')\n",
    "    .drop([\"SERIE_CODE\"],axis=1)\n",
    "    .query('SERIE_NAME!=\"Konut Fiyat Endeksi (KFE)\"')\n",
    "    .assign(KOD=lambda x:x[\"SERIE_NAME\"].str.split(\"(\",expand=True)[0])\n",
    "    .assign(City=lambda x:x[\"SERIE_NAME\"].str.split(\"(\",expand=True)[1])\n",
    "    .assign(City=lambda x: x[\"City\"].str.replace(\")\",\"\")))\n",
    "kfe_il = kfe[\"City\"].str.split(\",\", expand=True).ffill(axis=1)\n",
    "kfe = (pd.concat([kfe, kfe_il], axis=1)\n",
    "       .rename(columns={\"value\": \"value_\"})\n",
    "       .drop([\"SERIE_NAME\", \"Tarih\", \"KOD\"], axis=1))\n",
    "\n",
    "# Create a dictionary and DataFrame for mapping\n",
    "il_sozluk = {}\n",
    "for index, row in kfe.iterrows():\n",
    "    for i in range(0, 6):\n",
    "        il_sozluk[row[i]] = row[\"value_\"]\n",
    "kfe = pd.DataFrame(il_sozluk.items(), columns=['City', \"KFE\"])\n",
    "kfe[\"City\"] = kfe[\"City\"].str.strip()\n",
    "kfe"
   ]
  },
  {
   "cell_type": "code",
   "execution_count": null,
   "id": "6accfc78",
   "metadata": {},
   "outputs": [],
   "source": [
    "\n",
    "\n",
    "\n",
    "turkish_cities_geopoints = (gp.read_file(f'shape_files/TUR_ADM1.shp')\n",
    "                           .assign(Name=lambda x:x[\"Name\"].str.strip())\n",
    "                           .assign(Name=lambda x:x[\"Name\"].replace('KIR?EH?R', 'Kırşehir'))\n",
    "                           .assign(Name=lambda x:x[\"Name\"].replace('A?RI', 'Ağrı'))\n",
    "                           .assign(City=lambda x:x[\"Name\"].apply(lambda x: process.extractOne(x, kfe[\"City\"], scorer=fuzz.ratio)[0]))\n",
    "                           .assign(ratio=lambda x:x[\"Name\"].apply(lambda x: process.extractOne(x, kfe[\"City\"], scorer=fuzz.ratio)[1]))\n",
    "                           .merge(kfe, on =\"City\")\n",
    "                           .drop([\"City\",\"ratio\"],axis=1))\n",
    "\n",
    "turkish_cities_geopoints\n",
    "\n"
   ]
  },
  {
   "cell_type": "code",
   "execution_count": null,
   "id": "833f45ae",
   "metadata": {},
   "outputs": [],
   "source": [
    "#Graph  phase\n",
    "title = 'Turkish RPI (Yearly Change, %)'\n",
    "col=\"KFE\"\n",
    "vmin = turkish_cities_geopoints[col].min()\n",
    "vmax = turkish_cities_geopoints[col].max()\n",
    "cmap = 'Reds'\n",
    "\n",
    "fig, ax = plt.subplots(1, figsize=(20, 8))\n",
    "ax.axis('off')\n",
    "turkish_cities_geopoints.plot(column=col, ax=ax, edgecolor='0.8', linewidth=1, cmap=cmap)\n",
    "ax.set_title(title, fontdict={'fontsize': '20', 'fontweight': '3'})\n",
    "sm = plt.cm.ScalarMappable(norm=plt.Normalize(vmin=vmin, vmax=vmax), cmap=cmap)\n",
    "cbaxes = fig.add_axes([0.15, 0.25, 0.01, 0.4])\n",
    "cbar = fig.colorbar(sm, cax=cbaxes)\n",
    "plt.savefig('result_files/residential_price.png')\n",
    "plt.savefig('result_files/residential_price.pdf')\n",
    "writer = pd.ExcelWriter('result_files//residential_price.xlsx', engine='xlsxwriter')\n"
   ]
  },
  {
   "cell_type": "code",
   "execution_count": null,
   "id": "e3ff4e85",
   "metadata": {},
   "outputs": [],
   "source": [
    "\n",
    "# Excel Phase\n",
    "turkish_cities_geopoints.to_excel(writer, sheet_name='Sheet1')\n",
    "\n",
    "# Get the xlsxwriter workbook and worksheet objects.\n",
    "workbook  = writer.book\n",
    "worksheet = writer.sheets['Sheet1']\n",
    "worksheet.insert_image('D3', 'residential_price.png')\n",
    "writer.save()"
   ]
  },
  {
   "cell_type": "code",
   "execution_count": null,
   "id": "68212a4d",
   "metadata": {},
   "outputs": [],
   "source": []
  }
 ],
 "metadata": {
  "kernelspec": {
   "display_name": "Python 3 (ipykernel)",
   "language": "python",
   "name": "python3"
  },
  "language_info": {
   "codemirror_mode": {
    "name": "ipython",
    "version": 3
   },
   "file_extension": ".py",
   "mimetype": "text/x-python",
   "name": "python",
   "nbconvert_exporter": "python",
   "pygments_lexer": "ipython3",
   "version": "3.9.7"
  }
 },
 "nbformat": 4,
 "nbformat_minor": 5
}
